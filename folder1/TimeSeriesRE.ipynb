{
 "cells": [
  {
   "cell_type": "markdown",
   "metadata": {},
   "source": [
    "# Timeseries\n",
    "\n",
    "---\n",
    "**Overview.**  We introduce the tools for working with dates, times, and time series data. We start with functionality built into python itself, then discuss how pandas builds on these tools to add powerful time series capabilities to DataFrames.\n",
    "\n",
    "**Outline**\n",
    "\n",
    "- [Quandl](#data): We show how to use the quandl package to access a large database of financial and economic dat.\n",
    "- [Dates in python](#datetime): covers the basics of working with dates and times in python\n",
    "- [Dates in pandas](#pandas_dates): shows how to use dates with pandas objects\n",
    "\n",
    "\n",
    "**Note: requires internet access to run.**  \n",
    "\n",
    "This Jupyter notebook was created by Chase Coleman and Spencer Lyon for the NYU Stern course [Data Bootcamp](http://databootcamp.nyuecon.com/).  \n",
    "\n",
    "In order to run the code in this notebook, you will need to have the quandl package installed. You can do this from the command line using\n",
    "\n",
    "```\n",
    "pip install quandl --upgrade\n",
    "```\n",
    "\n",
    "---"
   ]
  },
  {
   "cell_type": "code",
   "execution_count": 1,
   "metadata": {
    "collapsed": false
   },
   "outputs": [
    {
     "name": "stdout",
     "output_type": "stream",
     "text": [
      "Python version: 3.5.2 |Anaconda 4.1.1 (x86_64)| (default, Jul  2 2016, 17:52:12) \n",
      "[GCC 4.2.1 Compatible Apple LLVM 4.2 (clang-425.0.28)]\n",
      "Pandas version:  0.18.1\n",
      "quandl version:  3.0.1\n",
      "Today:  2016-12-15\n"
     ]
    }
   ],
   "source": [
    "import sys                             # system module\n",
    "import pandas as pd                    # data package\n",
    "import matplotlib.pyplot as plt        # graphics module  \n",
    "import datetime as dt                  # date and time module\n",
    "import numpy as np\n",
    "%matplotlib inline    \n",
    "plt.style.use(\"ggplot\")\n",
    "\n",
    "# quandl package\n",
    "import quandl\n",
    "\n",
    "# check versions (overkill, but why not?)\n",
    "print('Python version:', sys.version)\n",
    "print('Pandas version: ', pd.__version__)\n",
    "print('quandl version: ', quandl.version.VERSION)\n",
    "print('Today: ', dt.date.today())\n",
    "\n",
    "# helper function to print info about dataframe\n",
    "\n",
    "def df_info(df):\n",
    "    print(\"Shape: \", df.shape)\n",
    "    print(\"dtypes: \", df.dtypes.to_dict())\n",
    "    print(\"index dtype: \", df.index.dtype)\n",
    "    return pd.concat([df.head(3), df.tail(3)])"
   ]
  },
  {
   "cell_type": "markdown",
   "metadata": {},
   "source": [
    "## Quandl <a id=data></a>\n",
    "\n",
    "[quandl](https://www.quandl.com) is a company that collects and maintains financial and economic data from standard sources (e.g. FRED, IMF, BEA, etc.) and non-standard sources (Fx data, company level data, trader receipts). The data is viewable on their webpage (see [here](https://www.quandl.com/data/BLSN-BLS-International) or [there](https://www.quandl.com/data/USTREASURY-US-Treasury) for examples), but made available to programming languages via their API. We will access their [API](https://www.quandl.com/docs/api#introduction) using their [python library](https://www.quandl.com/tools/python).\n",
    "\n",
    "Suppose, for example, that we wanted to get data on taxes in the US. Here's how we might find some:\n",
    "\n",
    "- Open up the quandl [search page](https://www.quandl.com/search)\n",
    "- Type in [\"US tax revenue\"](https://www.quandl.com/search)\n",
    "- Click on [one of the results](https://www.quandl.com/data/OECD/REV_NES_TOTALTAX_TAXUSD_USA-United-States-Total-Total-Tax-Revenue-Total-Tax-Revenue-In-Usd) that seems interesting to us\n",
    "- Checkout things like the frequency (Annual for this data set), the quandl code (top right, here it is `OECD/REV_NES_TOTALTAX_TAXUSD_USA`) and description."
   ]
  },
  {
   "cell_type": "markdown",
   "metadata": {},
   "source": [
    "**Exercise** (5 min): Go to Quandl's website and explore some of the data quandl has available. Come up with 2 datasets and make a dictionary that maps the quandl code into a reasonable name. For example, for the us tax revenue dataset above I could have done\n",
    "\n",
    "```python\n",
    "my_data = {\"OECD/REV_NES_TOTALTAX_TAXUSD_USA\": \"US_tax_rev\"}\n",
    "```"
   ]
  },
  {
   "cell_type": "code",
   "execution_count": null,
   "metadata": {
    "collapsed": true
   },
   "outputs": [],
   "source": []
  },
  {
   "cell_type": "markdown",
   "metadata": {},
   "source": [
    "We can download the data using the `quandl.get` function and passing it one of the Quandl codes we collected in the previous exercise"
   ]
  },
  {
   "cell_type": "code",
   "execution_count": 2,
   "metadata": {
    "collapsed": false
   },
   "outputs": [
    {
     "name": "stdout",
     "output_type": "stream",
     "text": [
      "Shape:  (51, 1)\n",
      "dtypes:  {'Value': dtype('float64')}\n",
      "index dtype:  datetime64[ns]\n"
     ]
    },
    {
     "data": {
      "text/html": [
       "<div>\n",
       "<table border=\"1\" class=\"dataframe\">\n",
       "  <thead>\n",
       "    <tr style=\"text-align: right;\">\n",
       "      <th></th>\n",
       "      <th>Value</th>\n",
       "    </tr>\n",
       "    <tr>\n",
       "      <th>Date</th>\n",
       "      <th></th>\n",
       "    </tr>\n",
       "  </thead>\n",
       "  <tbody>\n",
       "    <tr>\n",
       "      <th>1965-12-31</th>\n",
       "      <td>167022.00</td>\n",
       "    </tr>\n",
       "    <tr>\n",
       "      <th>1966-12-31</th>\n",
       "      <td>186065.00</td>\n",
       "    </tr>\n",
       "    <tr>\n",
       "      <th>1967-12-31</th>\n",
       "      <td>208577.00</td>\n",
       "    </tr>\n",
       "    <tr>\n",
       "      <th>2013-12-31</th>\n",
       "      <td>4283028.74</td>\n",
       "    </tr>\n",
       "    <tr>\n",
       "      <th>2014-12-31</th>\n",
       "      <td>4500529.62</td>\n",
       "    </tr>\n",
       "    <tr>\n",
       "      <th>2015-12-31</th>\n",
       "      <td>4754119.88</td>\n",
       "    </tr>\n",
       "  </tbody>\n",
       "</table>\n",
       "</div>"
      ],
      "text/plain": [
       "                 Value\n",
       "Date                  \n",
       "1965-12-31   167022.00\n",
       "1966-12-31   186065.00\n",
       "1967-12-31   208577.00\n",
       "2013-12-31  4283028.74\n",
       "2014-12-31  4500529.62\n",
       "2015-12-31  4754119.88"
      ]
     },
     "execution_count": 2,
     "metadata": {},
     "output_type": "execute_result"
    }
   ],
   "source": [
    "us_tax = quandl.get(\"OECD/REV_NES_TOTALTAX_TAXUSD_USA\")\n",
    "df_info(us_tax)"
   ]
  },
  {
   "cell_type": "markdown",
   "metadata": {},
   "source": [
    "We can also pass `start_date` and `end_date` parameters to control the dates for the downloaded data:"
   ]
  },
  {
   "cell_type": "code",
   "execution_count": 3,
   "metadata": {
    "collapsed": false
   },
   "outputs": [
    {
     "name": "stdout",
     "output_type": "stream",
     "text": [
      "Shape:  (16, 1)\n",
      "dtypes:  {'Value': dtype('float64')}\n",
      "index dtype:  datetime64[ns]\n"
     ]
    },
    {
     "data": {
      "text/html": [
       "<div>\n",
       "<table border=\"1\" class=\"dataframe\">\n",
       "  <thead>\n",
       "    <tr style=\"text-align: right;\">\n",
       "      <th></th>\n",
       "      <th>Value</th>\n",
       "    </tr>\n",
       "    <tr>\n",
       "      <th>Date</th>\n",
       "      <th></th>\n",
       "    </tr>\n",
       "  </thead>\n",
       "  <tbody>\n",
       "    <tr>\n",
       "      <th>2000-12-31</th>\n",
       "      <td>2900519.06</td>\n",
       "    </tr>\n",
       "    <tr>\n",
       "      <th>2001-12-31</th>\n",
       "      <td>2884729.87</td>\n",
       "    </tr>\n",
       "    <tr>\n",
       "      <th>2002-12-31</th>\n",
       "      <td>2738000.14</td>\n",
       "    </tr>\n",
       "    <tr>\n",
       "      <th>2013-12-31</th>\n",
       "      <td>4283028.74</td>\n",
       "    </tr>\n",
       "    <tr>\n",
       "      <th>2014-12-31</th>\n",
       "      <td>4500529.62</td>\n",
       "    </tr>\n",
       "    <tr>\n",
       "      <th>2015-12-31</th>\n",
       "      <td>4754119.88</td>\n",
       "    </tr>\n",
       "  </tbody>\n",
       "</table>\n",
       "</div>"
      ],
      "text/plain": [
       "                 Value\n",
       "Date                  \n",
       "2000-12-31  2900519.06\n",
       "2001-12-31  2884729.87\n",
       "2002-12-31  2738000.14\n",
       "2013-12-31  4283028.74\n",
       "2014-12-31  4500529.62\n",
       "2015-12-31  4754119.88"
      ]
     },
     "execution_count": 3,
     "metadata": {},
     "output_type": "execute_result"
    }
   ],
   "source": [
    "us_tax_recent = quandl.get(\"OECD/REV_NES_TOTALTAX_TAXUSD_USA\", start_date=\"2000-01-01\")\n",
    "df_info(us_tax_recent)"
   ]
  },
  {
   "cell_type": "markdown",
   "metadata": {},
   "source": [
    "Now, let's read in the data sets we found were interesting. Feel free to use the codes you looked up, or the ones I'm using here. "
   ]
  },
  {
   "cell_type": "code",
   "execution_count": 4,
   "metadata": {
    "collapsed": true
   },
   "outputs": [],
   "source": [
    "my_data = {\n",
    "    \"FRED/DFF\": \"risk_free_rate\",\n",
    "    \"NVCA/VENTURE_3_09C\": \"vc_investments\"\n",
    "}\n",
    "\n",
    "dfs = []\n",
    "\n",
    "for k in my_data.keys():\n",
    "    dfs.append(quandl.get(k))"
   ]
  },
  {
   "cell_type": "code",
   "execution_count": 5,
   "metadata": {
    "collapsed": false
   },
   "outputs": [
    {
     "name": "stdout",
     "output_type": "stream",
     "text": [
      "Shape:  (126, 5)\n",
      "dtypes:  {'Total': dtype('float64'), 'Later Stage': dtype('float64'), 'Early Stage': dtype('float64'), 'Seed': dtype('float64'), 'Expansion': dtype('float64')}\n",
      "index dtype:  datetime64[ns]\n"
     ]
    },
    {
     "data": {
      "text/html": [
       "<div>\n",
       "<table border=\"1\" class=\"dataframe\">\n",
       "  <thead>\n",
       "    <tr style=\"text-align: right;\">\n",
       "      <th></th>\n",
       "      <th>Seed</th>\n",
       "      <th>Early Stage</th>\n",
       "      <th>Expansion</th>\n",
       "      <th>Later Stage</th>\n",
       "      <th>Total</th>\n",
       "    </tr>\n",
       "    <tr>\n",
       "      <th>Date</th>\n",
       "      <th></th>\n",
       "      <th></th>\n",
       "      <th></th>\n",
       "      <th></th>\n",
       "      <th></th>\n",
       "    </tr>\n",
       "  </thead>\n",
       "  <tbody>\n",
       "    <tr>\n",
       "      <th>1985-03-31</th>\n",
       "      <td>153.0000</td>\n",
       "      <td>96.3000</td>\n",
       "      <td>219.5000</td>\n",
       "      <td>154.4000</td>\n",
       "      <td>623.1000</td>\n",
       "    </tr>\n",
       "    <tr>\n",
       "      <th>1985-06-30</th>\n",
       "      <td>146.5000</td>\n",
       "      <td>185.3000</td>\n",
       "      <td>319.6000</td>\n",
       "      <td>89.4000</td>\n",
       "      <td>740.8000</td>\n",
       "    </tr>\n",
       "    <tr>\n",
       "      <th>1985-09-30</th>\n",
       "      <td>93.7000</td>\n",
       "      <td>106.3000</td>\n",
       "      <td>312.8000</td>\n",
       "      <td>164.4000</td>\n",
       "      <td>677.2000</td>\n",
       "    </tr>\n",
       "    <tr>\n",
       "      <th>2015-12-31</th>\n",
       "      <td>482.5349</td>\n",
       "      <td>5193.9647</td>\n",
       "      <td>3282.8216</td>\n",
       "      <td>3167.6023</td>\n",
       "      <td>12126.9235</td>\n",
       "    </tr>\n",
       "    <tr>\n",
       "      <th>2016-03-31</th>\n",
       "      <td>561.8670</td>\n",
       "      <td>4601.1276</td>\n",
       "      <td>4010.2623</td>\n",
       "      <td>3516.5483</td>\n",
       "      <td>12689.8052</td>\n",
       "    </tr>\n",
       "    <tr>\n",
       "      <th>2016-06-30</th>\n",
       "      <td>534.7283</td>\n",
       "      <td>3962.5863</td>\n",
       "      <td>8507.1810</td>\n",
       "      <td>2286.6906</td>\n",
       "      <td>15291.1862</td>\n",
       "    </tr>\n",
       "  </tbody>\n",
       "</table>\n",
       "</div>"
      ],
      "text/plain": [
       "                Seed  Early Stage  Expansion  Later Stage       Total\n",
       "Date                                                                 \n",
       "1985-03-31  153.0000      96.3000   219.5000     154.4000    623.1000\n",
       "1985-06-30  146.5000     185.3000   319.6000      89.4000    740.8000\n",
       "1985-09-30   93.7000     106.3000   312.8000     164.4000    677.2000\n",
       "2015-12-31  482.5349    5193.9647  3282.8216    3167.6023  12126.9235\n",
       "2016-03-31  561.8670    4601.1276  4010.2623    3516.5483  12689.8052\n",
       "2016-06-30  534.7283    3962.5863  8507.1810    2286.6906  15291.1862"
      ]
     },
     "execution_count": 5,
     "metadata": {},
     "output_type": "execute_result"
    }
   ],
   "source": [
    "df_info(dfs[0])"
   ]
  },
  {
   "cell_type": "code",
   "execution_count": 6,
   "metadata": {
    "collapsed": false
   },
   "outputs": [
    {
     "name": "stdout",
     "output_type": "stream",
     "text": [
      "Shape:  (22812, 1)\n",
      "dtypes:  {'VALUE': dtype('float64')}\n",
      "index dtype:  datetime64[ns]\n"
     ]
    },
    {
     "data": {
      "text/html": [
       "<div>\n",
       "<table border=\"1\" class=\"dataframe\">\n",
       "  <thead>\n",
       "    <tr style=\"text-align: right;\">\n",
       "      <th></th>\n",
       "      <th>VALUE</th>\n",
       "    </tr>\n",
       "    <tr>\n",
       "      <th>DATE</th>\n",
       "      <th></th>\n",
       "    </tr>\n",
       "  </thead>\n",
       "  <tbody>\n",
       "    <tr>\n",
       "      <th>1954-07-01</th>\n",
       "      <td>1.13</td>\n",
       "    </tr>\n",
       "    <tr>\n",
       "      <th>1954-07-02</th>\n",
       "      <td>1.25</td>\n",
       "    </tr>\n",
       "    <tr>\n",
       "      <th>1954-07-03</th>\n",
       "      <td>1.25</td>\n",
       "    </tr>\n",
       "    <tr>\n",
       "      <th>2016-12-11</th>\n",
       "      <td>0.41</td>\n",
       "    </tr>\n",
       "    <tr>\n",
       "      <th>2016-12-12</th>\n",
       "      <td>0.41</td>\n",
       "    </tr>\n",
       "    <tr>\n",
       "      <th>2016-12-13</th>\n",
       "      <td>0.41</td>\n",
       "    </tr>\n",
       "  </tbody>\n",
       "</table>\n",
       "</div>"
      ],
      "text/plain": [
       "            VALUE\n",
       "DATE             \n",
       "1954-07-01   1.13\n",
       "1954-07-02   1.25\n",
       "1954-07-03   1.25\n",
       "2016-12-11   0.41\n",
       "2016-12-12   0.41\n",
       "2016-12-13   0.41"
      ]
     },
     "execution_count": 6,
     "metadata": {},
     "output_type": "execute_result"
    }
   ],
   "source": [
    "df_info(dfs[1])"
   ]
  },
  {
   "cell_type": "markdown",
   "metadata": {},
   "source": [
    "So, `\"FRED/DFF\"` is the [federal funds rate](https://fred.stlouisfed.org/series/FEDFUNDS), or the interest rate at which banks can trade federal assets with eachother overnight. This is often used as a proxy for the risk free rate i economic analysis. \n",
    "\n",
    "From the printout above it looks like we have more than 22k observations starting in 1954 at a daily frequency.\n",
    "\n",
    "Notice, however that the column name is `VALUE`. Let's use our dict to clean up that name:"
   ]
  },
  {
   "cell_type": "code",
   "execution_count": 7,
   "metadata": {
    "collapsed": false
   },
   "outputs": [
    {
     "name": "stdout",
     "output_type": "stream",
     "text": [
      "Shape:  (126, 5)\n",
      "dtypes:  {'Total': dtype('float64'), 'Later Stage': dtype('float64'), 'Early Stage': dtype('float64'), 'Seed': dtype('float64'), 'Expansion': dtype('float64')}\n",
      "index dtype:  datetime64[ns]\n"
     ]
    },
    {
     "data": {
      "text/html": [
       "<div>\n",
       "<table border=\"1\" class=\"dataframe\">\n",
       "  <thead>\n",
       "    <tr style=\"text-align: right;\">\n",
       "      <th></th>\n",
       "      <th>Seed</th>\n",
       "      <th>Early Stage</th>\n",
       "      <th>Expansion</th>\n",
       "      <th>Later Stage</th>\n",
       "      <th>Total</th>\n",
       "    </tr>\n",
       "    <tr>\n",
       "      <th>Date</th>\n",
       "      <th></th>\n",
       "      <th></th>\n",
       "      <th></th>\n",
       "      <th></th>\n",
       "      <th></th>\n",
       "    </tr>\n",
       "  </thead>\n",
       "  <tbody>\n",
       "    <tr>\n",
       "      <th>1985-03-31</th>\n",
       "      <td>153.0000</td>\n",
       "      <td>96.3000</td>\n",
       "      <td>219.5000</td>\n",
       "      <td>154.4000</td>\n",
       "      <td>623.1000</td>\n",
       "    </tr>\n",
       "    <tr>\n",
       "      <th>1985-06-30</th>\n",
       "      <td>146.5000</td>\n",
       "      <td>185.3000</td>\n",
       "      <td>319.6000</td>\n",
       "      <td>89.4000</td>\n",
       "      <td>740.8000</td>\n",
       "    </tr>\n",
       "    <tr>\n",
       "      <th>1985-09-30</th>\n",
       "      <td>93.7000</td>\n",
       "      <td>106.3000</td>\n",
       "      <td>312.8000</td>\n",
       "      <td>164.4000</td>\n",
       "      <td>677.2000</td>\n",
       "    </tr>\n",
       "    <tr>\n",
       "      <th>2015-12-31</th>\n",
       "      <td>482.5349</td>\n",
       "      <td>5193.9647</td>\n",
       "      <td>3282.8216</td>\n",
       "      <td>3167.6023</td>\n",
       "      <td>12126.9235</td>\n",
       "    </tr>\n",
       "    <tr>\n",
       "      <th>2016-03-31</th>\n",
       "      <td>561.8670</td>\n",
       "      <td>4601.1276</td>\n",
       "      <td>4010.2623</td>\n",
       "      <td>3516.5483</td>\n",
       "      <td>12689.8052</td>\n",
       "    </tr>\n",
       "    <tr>\n",
       "      <th>2016-06-30</th>\n",
       "      <td>534.7283</td>\n",
       "      <td>3962.5863</td>\n",
       "      <td>8507.1810</td>\n",
       "      <td>2286.6906</td>\n",
       "      <td>15291.1862</td>\n",
       "    </tr>\n",
       "  </tbody>\n",
       "</table>\n",
       "</div>"
      ],
      "text/plain": [
       "                Seed  Early Stage  Expansion  Later Stage       Total\n",
       "Date                                                                 \n",
       "1985-03-31  153.0000      96.3000   219.5000     154.4000    623.1000\n",
       "1985-06-30  146.5000     185.3000   319.6000      89.4000    740.8000\n",
       "1985-09-30   93.7000     106.3000   312.8000     164.4000    677.2000\n",
       "2015-12-31  482.5349    5193.9647  3282.8216    3167.6023  12126.9235\n",
       "2016-03-31  561.8670    4601.1276  4010.2623    3516.5483  12689.8052\n",
       "2016-06-30  534.7283    3962.5863  8507.1810    2286.6906  15291.1862"
      ]
     },
     "execution_count": 7,
     "metadata": {},
     "output_type": "execute_result"
    }
   ],
   "source": [
    "dfs[0].rename(columns={\"VALUE\": my_data[\"FRED/DFF\"]}, inplace=True)\n",
    "df_info(dfs[0])"
   ]
  },
  {
   "cell_type": "markdown",
   "metadata": {},
   "source": [
    "The second dataframe we dowloaded (using code `NVCA/VENTURE_3_09C`) contains quarterly data on total investment by venture capital firms in the US, broken down by the stage of the project.\n",
    "\n",
    "The column names here are ok, so we don't need to change anything."
   ]
  },
  {
   "cell_type": "markdown",
   "metadata": {},
   "source": [
    "**Exercise (5 min)** do a simlar analysis/report for whatever datasets you chose to work with. Make sure to do the following:\n",
    "\n",
    "- Make note of the frequency of the data (e.g. daily, monthly, quarterly, yearly, etc.)\n",
    "- Check the column names\n",
    "\n",
    "If you chose to use the same data as me, do something interesting with the data. Perhaps construct plots of differenet variables, or compute summary statistics -- use your imagination here."
   ]
  },
  {
   "cell_type": "code",
   "execution_count": null,
   "metadata": {
    "collapsed": true
   },
   "outputs": [],
   "source": []
  },
  {
   "cell_type": "markdown",
   "metadata": {},
   "source": [
    "So that we have the data easily acessible for later on, let's store these two variables in individual dataframes:"
   ]
  },
  {
   "cell_type": "code",
   "execution_count": 8,
   "metadata": {
    "collapsed": true
   },
   "outputs": [],
   "source": [
    "ffr = dfs[0]\n",
    "vc = dfs[1]"
   ]
  },
  {
   "cell_type": "markdown",
   "metadata": {},
   "source": [
    "## Dates in python <a id=datetime></a>"
   ]
  },
  {
   "cell_type": "markdown",
   "metadata": {},
   "source": [
    "The date and time functionality in python comes from the built in `datetime` module. Notice above that we ran\n",
    "\n",
    "```python\n",
    "import datetime as dt\n",
    "```\n",
    "\n",
    "We've been using the `dt.date.today()` function throughout this course when we print the date at the top of our notebooks, but we haven't given it very much thought. Let's take a closer look now.\n",
    "\n",
    "To start, let's see what the type of `dt.date.today()` is"
   ]
  },
  {
   "cell_type": "code",
   "execution_count": 9,
   "metadata": {
    "collapsed": false
   },
   "outputs": [
    {
     "name": "stdout",
     "output_type": "stream",
     "text": [
      "the type of today is  <class 'datetime.date'>\n"
     ]
    }
   ],
   "source": [
    "today = dt.date.today()\n",
    "print(\"the type of today is \", type(today))"
   ]
  },
  {
   "cell_type": "markdown",
   "metadata": {},
   "source": [
    "Given that we have an object of type `datetime.date` we can do things like ask for the day, month, and year"
   ]
  },
  {
   "cell_type": "code",
   "execution_count": 10,
   "metadata": {
    "collapsed": false
   },
   "outputs": [
    {
     "name": "stdout",
     "output_type": "stream",
     "text": [
      "the day of the month is:  15\n",
      "we are curretly in month number 12\n",
      "The year is 2016\n"
     ]
    }
   ],
   "source": [
    "print(\"the day of the month is: \", today.day)\n",
    "print(\"we are curretly in month number\", today.month)\n",
    "print(\"The year is\", today.year)"
   ]
  },
  {
   "cell_type": "markdown",
   "metadata": {},
   "source": [
    "### timedelta\n",
    "\n",
    "Suppose that we wanted to construct a \"days until\" counter.\n",
    "\n",
    "To do this we will construct another `datetime.date` and use the `-` operator to find the differene between the other date and today."
   ]
  },
  {
   "cell_type": "code",
   "execution_count": 17,
   "metadata": {
    "collapsed": true
   },
   "outputs": [],
   "source": [
    "# construct a date by hand\n",
    "new_years_eve = dt.date(2016, 12, 31)"
   ]
  },
  {
   "cell_type": "code",
   "execution_count": 18,
   "metadata": {
    "collapsed": false
   },
   "outputs": [],
   "source": [
    "until_nye = new_years_eve - today"
   ]
  },
  {
   "cell_type": "code",
   "execution_count": 19,
   "metadata": {
    "collapsed": false
   },
   "outputs": [
    {
     "data": {
      "text/plain": [
       "datetime.timedelta"
      ]
     },
     "execution_count": 19,
     "metadata": {},
     "output_type": "execute_result"
    }
   ],
   "source": [
    "type(until_nye)"
   ]
  },
  {
   "cell_type": "markdown",
   "metadata": {},
   "source": [
    "We can get the number of days until new years eve by looking at `until_nye.days`"
   ]
  },
  {
   "cell_type": "code",
   "execution_count": 20,
   "metadata": {
    "collapsed": false
   },
   "outputs": [
    {
     "data": {
      "text/plain": [
       "16"
      ]
     },
     "execution_count": 20,
     "metadata": {},
     "output_type": "execute_result"
    }
   ],
   "source": [
    "until_nye.days"
   ]
  },
  {
   "cell_type": "markdown",
   "metadata": {},
   "source": [
    "**Exercise (5 min)**: write a python function named `days_until` that accepts one argument (a `datetime.date`) and returns the number of days between today and that date. Apply your function to \n",
    "\n",
    "- December 15, 2016 (day the UG project is due)\n",
    "- Your birthday (HINT: unless your birthday is in late December, make sure to do 2017 as the year)"
   ]
  },
  {
   "cell_type": "code",
   "execution_count": null,
   "metadata": {
    "collapsed": true
   },
   "outputs": [],
   "source": []
  },
  {
   "cell_type": "markdown",
   "metadata": {},
   "source": [
    "We could also construct a `datetime.timedelta` by hand and add it to an existing date. Here's an example to see how many days until Spencer turns 30"
   ]
  },
  {
   "cell_type": "code",
   "execution_count": 14,
   "metadata": {
    "collapsed": true
   },
   "outputs": [],
   "source": [
    "spencer_bday = dt.date(1989, 4, 25)\n",
    "\n",
    "# NOTE: add 7 for the 7 leap years between 1989 and 2019\n",
    "thirty_years = dt.timedelta(days=365*30 + 7)"
   ]
  },
  {
   "cell_type": "code",
   "execution_count": 15,
   "metadata": {
    "collapsed": false
   },
   "outputs": [
    {
     "data": {
      "text/plain": [
       "datetime.date(2019, 4, 25)"
      ]
     },
     "execution_count": 15,
     "metadata": {},
     "output_type": "execute_result"
    }
   ],
   "source": [
    "# check to make sure it is still April 25th\n",
    "spencer_bday + thirty_years"
   ]
  },
  {
   "cell_type": "code",
   "execution_count": 16,
   "metadata": {
    "collapsed": false
   },
   "outputs": [
    {
     "name": "stdout",
     "output_type": "stream",
     "text": [
      "Spencer will be 30 in 861 days\n"
     ]
    }
   ],
   "source": [
    "days_to_30 = (spencer_bday + thirty_years - today).days\n",
    "print(\"Spencer will be 30 in {} days\".format(days_to_30))"
   ]
  },
  {
   "cell_type": "markdown",
   "metadata": {},
   "source": [
    "### datetime\n",
    "\n",
    "Being able to work with dates and the difference between dates is very useful, but sometimes we need to also think about times. To do that, we will look to the `dt.datetime` module.\n",
    "\n",
    "We can get the current date and time using `dt.datetime.now()`:"
   ]
  },
  {
   "cell_type": "code",
   "execution_count": 11,
   "metadata": {
    "collapsed": false
   },
   "outputs": [
    {
     "name": "stdout",
     "output_type": "stream",
     "text": [
      "type of now: <class 'datetime.datetime'>\n"
     ]
    },
    {
     "data": {
      "text/plain": [
       "datetime.datetime(2016, 12, 15, 17, 50, 13, 447210)"
      ]
     },
     "execution_count": 11,
     "metadata": {},
     "output_type": "execute_result"
    }
   ],
   "source": [
    "now = dt.datetime.now()\n",
    "print(\"type of now:\", type(now))\n",
    "now"
   ]
  },
  {
   "cell_type": "markdown",
   "metadata": {},
   "source": [
    "The numbers in the printout above are `year`, `month`, `day`, `hour`, `minute`, `second`, `millisecond`.\n",
    "\n",
    "Because we still have day, month, year information ; we can access these properties just as we did for the `today`  above:"
   ]
  },
  {
   "cell_type": "code",
   "execution_count": 12,
   "metadata": {
    "collapsed": false
   },
   "outputs": [
    {
     "name": "stdout",
     "output_type": "stream",
     "text": [
      "the day of the month is:  15\n",
      "we are curretly in month number 12\n",
      "The year is 2016\n"
     ]
    }
   ],
   "source": [
    "print(\"the day of the month is: \", now.day)\n",
    "print(\"we are curretly in month number\", now.month)\n",
    "print(\"The year is\", now.year)"
   ]
  },
  {
   "cell_type": "markdown",
   "metadata": {},
   "source": [
    "**Exercise (2 min)**: Use tab completion to see what else we can access on our `dt.datetime` object `now`"
   ]
  },
  {
   "cell_type": "code",
   "execution_count": null,
   "metadata": {
    "collapsed": true
   },
   "outputs": [],
   "source": []
  },
  {
   "cell_type": "markdown",
   "metadata": {},
   "source": [
    "Time deltas work the same way with `datetime` objects as they did with `date` objects.\n",
    "\n",
    "We can see how many seconds until Spencer turns 30:"
   ]
  },
  {
   "cell_type": "code",
   "execution_count": 21,
   "metadata": {
    "collapsed": false
   },
   "outputs": [
    {
     "name": "stdout",
     "output_type": "stream",
     "text": [
      "Spencer will be 30 in 81771 seconds\n"
     ]
    }
   ],
   "source": [
    "# NOTE: we can only do arithmetic between many date objects or datetime obejcts\n",
    "#       we cannot add or subtract a datetime to/from a date. So, we need to \n",
    "#       re-create spencer_bday as a datetime object. \n",
    "# NOTE: The timedelta object is already compatible with date and datetime objects\n",
    "spencer_bday_time = dt.datetime(1989, 4, 25, 16, 33, 5)\n",
    "seconds_to_30 = (spencer_bday_time + thirty_years - now).seconds\n",
    "\n",
    "print(\"Spencer will be 30 in {} seconds\".format(seconds_to_30))"
   ]
  },
  {
   "cell_type": "markdown",
   "metadata": {},
   "source": [
    "### strftime\n",
    "\n",
    "Once we have date and time information, a very common thing to do is to print out a formatted version of that date. For example, suppose we wanted to print out a string in the format `YYYY-MM-DD`. To do this we use the `strftime` method. Here's an example"
   ]
  },
  {
   "cell_type": "code",
   "execution_count": 22,
   "metadata": {
    "collapsed": false
   },
   "outputs": [
    {
     "name": "stdout",
     "output_type": "stream",
     "text": [
      "Today is 2016-12-15\n"
     ]
    }
   ],
   "source": [
    "print(today.strftime(\"Today is %Y-%m-%d\"))"
   ]
  },
  {
   "cell_type": "markdown",
   "metadata": {},
   "source": [
    "Notice that the argument to `strftime` is a python string that can contain normal text (e.g. `Today is`) and a special formatters (the stuff starting with `%`). We haven't talked much about how to do string formatting, but in Python and many other languages using `%` inside strings has special meaning."
   ]
  },
  {
   "cell_type": "markdown",
   "metadata": {},
   "source": [
    "**Exercise (6 min)** Using the [documentation](https://docs.python.org/3.5/library/datetime.html#strftime-strptime-behavior) for the string formatting behavior, figure out how to write the following strings using the method `strftime` method on the `spencer_bday_time` object\n",
    "\n",
    "- \"Spencer was born on 1989-04-25\"\n",
    "- \"Spencer was born on a Tuesday\"\n",
    "- \"Spencer was born on Tuesday, April 25th\"\n",
    "- (**bonus**) \"Spencer was born on Tuesday, April 25th at 04:33 PM\""
   ]
  },
  {
   "cell_type": "code",
   "execution_count": 23,
   "metadata": {
    "collapsed": false
   },
   "outputs": [
    {
     "data": {
      "text/plain": [
       "'Spencer was born on Tuesday, April 25th at 04:33 PM'"
      ]
     },
     "execution_count": 23,
     "metadata": {},
     "output_type": "execute_result"
    }
   ],
   "source": [
    "spencer_bday_time.strftime(\"Spencer was born on %A, %B %dth at %I:%M %p\")"
   ]
  },
  {
   "cell_type": "markdown",
   "metadata": {},
   "source": [
    "## Dates in Pandas <a id=pandas_dates></a>"
   ]
  },
  {
   "cell_type": "markdown",
   "metadata": {
    "collapsed": true
   },
   "source": [
    "Now we will look at how to use date and dateime functionality in pandas.\n",
    "\n",
    "To begin, lets take a closer look at the type of index we have on our `ffr` and `vc` dataframes:"
   ]
  },
  {
   "cell_type": "code",
   "execution_count": 24,
   "metadata": {
    "collapsed": false
   },
   "outputs": [
    {
     "data": {
      "text/plain": [
       "pandas.tseries.index.DatetimeIndex"
      ]
     },
     "execution_count": 24,
     "metadata": {},
     "output_type": "execute_result"
    }
   ],
   "source": [
    "type(ffr.index)"
   ]
  },
  {
   "cell_type": "markdown",
   "metadata": {},
   "source": [
    "Here we have a `DatetimeIndex`, which menas pandas recogizes this DataFrame as containing time series data. \n",
    "\n",
    "What can we do now? A lot, here's a brief list:\n",
    "\n",
    "- `subset` the data using strings to get data for a particular time frame\n",
    "- `resample` the data to a diffrent frequency: this means we could convert daily to monthly, quarterly, etc.\n",
    "- quickly access things like `year`, `month`, and `day` for the observation\n",
    "- rolling computations: this will allow us to compute statistics on a rolling subset of the data. We'll show a simple example here, but check out the [docs](http://pandas.pydata.org/pandas-docs/stable/computation.html#window-functions) for more info\n",
    "- `snap` the observations to a particular frequency -- this one is a bit advanced and we won't cover it here\n",
    "\n",
    "For a much more comprehensive list with other examples see the [docs](http://pandas.pydata.org/pandas-docs/stable/timeseries.html#datetimeindex)\n",
    "\n",
    "For now, let's look at how to do these things with the data we obtained from quandl\n",
    "\n",
    "**NOTE** You can _only_ do these things when you have a `DatetimeIndex`. This means that even if one of the columns in your DataFrame has date or datetime information, you will need to set it as the index to access this functionality."
   ]
  },
  {
   "cell_type": "markdown",
   "metadata": {},
   "source": [
    "### subsetting \n",
    "\n",
    "Suppose we wanted to extract all the data for the federal funds rate for the year 2008."
   ]
  },
  {
   "cell_type": "code",
   "execution_count": 25,
   "metadata": {
    "collapsed": false
   },
   "outputs": [
    {
     "name": "stdout",
     "output_type": "stream",
     "text": [
      "ffr2008 is a <class 'pandas.core.frame.DataFrame'>\n",
      "Shape:  (4, 5)\n",
      "dtypes:  {'Total': dtype('float64'), 'Later Stage': dtype('float64'), 'Early Stage': dtype('float64'), 'Seed': dtype('float64'), 'Expansion': dtype('float64')}\n",
      "index dtype:  datetime64[ns]\n"
     ]
    },
    {
     "data": {
      "text/html": [
       "<div>\n",
       "<table border=\"1\" class=\"dataframe\">\n",
       "  <thead>\n",
       "    <tr style=\"text-align: right;\">\n",
       "      <th></th>\n",
       "      <th>Seed</th>\n",
       "      <th>Early Stage</th>\n",
       "      <th>Expansion</th>\n",
       "      <th>Later Stage</th>\n",
       "      <th>Total</th>\n",
       "    </tr>\n",
       "    <tr>\n",
       "      <th>Date</th>\n",
       "      <th></th>\n",
       "      <th></th>\n",
       "      <th></th>\n",
       "      <th></th>\n",
       "      <th></th>\n",
       "    </tr>\n",
       "  </thead>\n",
       "  <tbody>\n",
       "    <tr>\n",
       "      <th>2008-03-31</th>\n",
       "      <td>460.1514</td>\n",
       "      <td>1446.9379</td>\n",
       "      <td>3482.6370</td>\n",
       "      <td>2798.8813</td>\n",
       "      <td>8188.6076</td>\n",
       "    </tr>\n",
       "    <tr>\n",
       "      <th>2008-06-30</th>\n",
       "      <td>520.2955</td>\n",
       "      <td>1595.4758</td>\n",
       "      <td>2818.1348</td>\n",
       "      <td>3123.4292</td>\n",
       "      <td>8057.3353</td>\n",
       "    </tr>\n",
       "    <tr>\n",
       "      <th>2008-09-30</th>\n",
       "      <td>605.8082</td>\n",
       "      <td>1439.8898</td>\n",
       "      <td>2571.8795</td>\n",
       "      <td>3112.4632</td>\n",
       "      <td>7730.0407</td>\n",
       "    </tr>\n",
       "    <tr>\n",
       "      <th>2008-06-30</th>\n",
       "      <td>520.2955</td>\n",
       "      <td>1595.4758</td>\n",
       "      <td>2818.1348</td>\n",
       "      <td>3123.4292</td>\n",
       "      <td>8057.3353</td>\n",
       "    </tr>\n",
       "    <tr>\n",
       "      <th>2008-09-30</th>\n",
       "      <td>605.8082</td>\n",
       "      <td>1439.8898</td>\n",
       "      <td>2571.8795</td>\n",
       "      <td>3112.4632</td>\n",
       "      <td>7730.0407</td>\n",
       "    </tr>\n",
       "    <tr>\n",
       "      <th>2008-12-31</th>\n",
       "      <td>370.9541</td>\n",
       "      <td>1569.9787</td>\n",
       "      <td>2315.4418</td>\n",
       "      <td>2201.3975</td>\n",
       "      <td>6457.7721</td>\n",
       "    </tr>\n",
       "  </tbody>\n",
       "</table>\n",
       "</div>"
      ],
      "text/plain": [
       "                Seed  Early Stage  Expansion  Later Stage      Total\n",
       "Date                                                                \n",
       "2008-03-31  460.1514    1446.9379  3482.6370    2798.8813  8188.6076\n",
       "2008-06-30  520.2955    1595.4758  2818.1348    3123.4292  8057.3353\n",
       "2008-09-30  605.8082    1439.8898  2571.8795    3112.4632  7730.0407\n",
       "2008-06-30  520.2955    1595.4758  2818.1348    3123.4292  8057.3353\n",
       "2008-09-30  605.8082    1439.8898  2571.8795    3112.4632  7730.0407\n",
       "2008-12-31  370.9541    1569.9787  2315.4418    2201.3975  6457.7721"
      ]
     },
     "execution_count": 25,
     "metadata": {},
     "output_type": "execute_result"
    }
   ],
   "source": [
    "ffr2008 = ffr[\"2008\"]\n",
    "print(\"ffr2008 is a\", type(ffr2008))\n",
    "df_info(ffr2008)"
   ]
  },
  {
   "cell_type": "code",
   "execution_count": 26,
   "metadata": {
    "collapsed": false
   },
   "outputs": [
    {
     "data": {
      "text/plain": [
       "<matplotlib.axes._subplots.AxesSubplot at 0x1179944a8>"
      ]
     },
     "execution_count": 26,
     "metadata": {},
     "output_type": "execute_result"
    },
    {
     "data": {
      "image/png": "[encoded data removed]",
      "text/plain": [
       "<matplotlib.figure.Figure at 0x117983390>"
      ]
     },
     "metadata": {},
     "output_type": "display_data"
    }
   ],
   "source": [
    "ffr2008.plot()"
   ]
  },
  {
   "cell_type": "markdown",
   "metadata": {},
   "source": [
    "Suppose we want to restrict to September 2008:"
   ]
  },
  {
   "cell_type": "code",
   "execution_count": 27,
   "metadata": {
    "collapsed": false
   },
   "outputs": [
    {
     "name": "stdout",
     "output_type": "stream",
     "text": [
      "Shape:  (1, 5)\n",
      "dtypes:  {'Total': dtype('float64'), 'Later Stage': dtype('float64'), 'Early Stage': dtype('float64'), 'Seed': dtype('float64'), 'Expansion': dtype('float64')}\n",
      "index dtype:  datetime64[ns]\n"
     ]
    },
    {
     "data": {
      "text/html": [
       "<div>\n",
       "<table border=\"1\" class=\"dataframe\">\n",
       "  <thead>\n",
       "    <tr style=\"text-align: right;\">\n",
       "      <th></th>\n",
       "      <th>Seed</th>\n",
       "      <th>Early Stage</th>\n",
       "      <th>Expansion</th>\n",
       "      <th>Later Stage</th>\n",
       "      <th>Total</th>\n",
       "    </tr>\n",
       "    <tr>\n",
       "      <th>Date</th>\n",
       "      <th></th>\n",
       "      <th></th>\n",
       "      <th></th>\n",
       "      <th></th>\n",
       "      <th></th>\n",
       "    </tr>\n",
       "  </thead>\n",
       "  <tbody>\n",
       "    <tr>\n",
       "      <th>2008-09-30</th>\n",
       "      <td>605.8082</td>\n",
       "      <td>1439.8898</td>\n",
       "      <td>2571.8795</td>\n",
       "      <td>3112.4632</td>\n",
       "      <td>7730.0407</td>\n",
       "    </tr>\n",
       "    <tr>\n",
       "      <th>2008-09-30</th>\n",
       "      <td>605.8082</td>\n",
       "      <td>1439.8898</td>\n",
       "      <td>2571.8795</td>\n",
       "      <td>3112.4632</td>\n",
       "      <td>7730.0407</td>\n",
       "    </tr>\n",
       "  </tbody>\n",
       "</table>\n",
       "</div>"
      ],
      "text/plain": [
       "                Seed  Early Stage  Expansion  Later Stage      Total\n",
       "Date                                                                \n",
       "2008-09-30  605.8082    1439.8898  2571.8795    3112.4632  7730.0407\n",
       "2008-09-30  605.8082    1439.8898  2571.8795    3112.4632  7730.0407"
      ]
     },
     "execution_count": 27,
     "metadata": {},
     "output_type": "execute_result"
    }
   ],
   "source": [
    "ffr_sep2008 = ffr[\"2008-09\"]\n",
    "df_info(ffr_sep2008)"
   ]
  },
  {
   "cell_type": "markdown",
   "metadata": {},
   "source": [
    "We can use this same functionality to extract ranges of dates. To get the data starting in june 2007 and going until march 2011 we would do"
   ]
  },
  {
   "cell_type": "code",
   "execution_count": 28,
   "metadata": {
    "collapsed": false
   },
   "outputs": [
    {
     "name": "stdout",
     "output_type": "stream",
     "text": [
      "Shape:  (16, 5)\n",
      "dtypes:  {'Total': dtype('float64'), 'Later Stage': dtype('float64'), 'Early Stage': dtype('float64'), 'Seed': dtype('float64'), 'Expansion': dtype('float64')}\n",
      "index dtype:  datetime64[ns]\n"
     ]
    },
    {
     "data": {
      "text/html": [
       "<div>\n",
       "<table border=\"1\" class=\"dataframe\">\n",
       "  <thead>\n",
       "    <tr style=\"text-align: right;\">\n",
       "      <th></th>\n",
       "      <th>Seed</th>\n",
       "      <th>Early Stage</th>\n",
       "      <th>Expansion</th>\n",
       "      <th>Later Stage</th>\n",
       "      <th>Total</th>\n",
       "    </tr>\n",
       "    <tr>\n",
       "      <th>Date</th>\n",
       "      <th></th>\n",
       "      <th></th>\n",
       "      <th></th>\n",
       "      <th></th>\n",
       "      <th></th>\n",
       "    </tr>\n",
       "  </thead>\n",
       "  <tbody>\n",
       "    <tr>\n",
       "      <th>2007-06-30</th>\n",
       "      <td>497.2470</td>\n",
       "      <td>1734.1126</td>\n",
       "      <td>2345.9235</td>\n",
       "      <td>3325.0876</td>\n",
       "      <td>7902.3707</td>\n",
       "    </tr>\n",
       "    <tr>\n",
       "      <th>2007-09-30</th>\n",
       "      <td>460.3065</td>\n",
       "      <td>1294.2212</td>\n",
       "      <td>3084.4873</td>\n",
       "      <td>3361.8846</td>\n",
       "      <td>8200.8996</td>\n",
       "    </tr>\n",
       "    <tr>\n",
       "      <th>2007-12-31</th>\n",
       "      <td>558.3729</td>\n",
       "      <td>1904.9306</td>\n",
       "      <td>2913.5818</td>\n",
       "      <td>3136.4166</td>\n",
       "      <td>8513.3019</td>\n",
       "    </tr>\n",
       "    <tr>\n",
       "      <th>2010-09-30</th>\n",
       "      <td>341.7186</td>\n",
       "      <td>1455.3298</td>\n",
       "      <td>1642.9529</td>\n",
       "      <td>2054.1624</td>\n",
       "      <td>5494.1637</td>\n",
       "    </tr>\n",
       "    <tr>\n",
       "      <th>2010-12-31</th>\n",
       "      <td>225.6879</td>\n",
       "      <td>1791.5509</td>\n",
       "      <td>2260.4050</td>\n",
       "      <td>1443.1226</td>\n",
       "      <td>5720.7664</td>\n",
       "    </tr>\n",
       "    <tr>\n",
       "      <th>2011-03-31</th>\n",
       "      <td>216.2328</td>\n",
       "      <td>1931.6053</td>\n",
       "      <td>2188.6025</td>\n",
       "      <td>2190.0105</td>\n",
       "      <td>6526.4511</td>\n",
       "    </tr>\n",
       "  </tbody>\n",
       "</table>\n",
       "</div>"
      ],
      "text/plain": [
       "                Seed  Early Stage  Expansion  Later Stage      Total\n",
       "Date                                                                \n",
       "2007-06-30  497.2470    1734.1126  2345.9235    3325.0876  7902.3707\n",
       "2007-09-30  460.3065    1294.2212  3084.4873    3361.8846  8200.8996\n",
       "2007-12-31  558.3729    1904.9306  2913.5818    3136.4166  8513.3019\n",
       "2010-09-30  341.7186    1455.3298  1642.9529    2054.1624  5494.1637\n",
       "2010-12-31  225.6879    1791.5509  2260.4050    1443.1226  5720.7664\n",
       "2011-03-31  216.2328    1931.6053  2188.6025    2190.0105  6526.4511"
      ]
     },
     "execution_count": 28,
     "metadata": {},
     "output_type": "execute_result"
    }
   ],
   "source": [
    "ffr2 = ffr[\"2007-06\":\"2011-03\"]\n",
    "df_info(ffr2)"
   ]
  },
  {
   "cell_type": "code",
   "execution_count": 29,
   "metadata": {
    "collapsed": false
   },
   "outputs": [
    {
     "data": {
      "text/plain": [
       "<matplotlib.axes._subplots.AxesSubplot at 0x117a8ddd8>"
      ]
     },
     "execution_count": 29,
     "metadata": {},
     "output_type": "execute_result"
    },
    {
     "data": {
      "image/png": "[encoded data removed]",
      "text/plain": [
       "<matplotlib.figure.Figure at 0x11481d8d0>"
      ]
     },
     "metadata": {},
     "output_type": "display_data"
    }
   ],
   "source": [
    "ffr2.plot()"
   ]
  },
  {
   "cell_type": "markdown",
   "metadata": {},
   "source": [
    "**Exercise (3 min)** Using one of your datasets from quandl, plot one or more variables for the last 3 years (2013 through 2016)"
   ]
  },
  {
   "cell_type": "code",
   "execution_count": null,
   "metadata": {
    "collapsed": true
   },
   "outputs": [],
   "source": []
  },
  {
   "cell_type": "markdown",
   "metadata": {},
   "source": [
    "### resampling\n",
    "\n",
    "Now suppose that instead of daily data, we wanted our federal funds data at a monthly frequency.\n",
    "\n",
    "To do this we use the `resample` method on our DataFrame"
   ]
  },
  {
   "cell_type": "code",
   "execution_count": 30,
   "metadata": {
    "collapsed": false
   },
   "outputs": [
    {
     "data": {
      "text/plain": [
       "pandas.tseries.resample.DatetimeIndexResampler"
      ]
     },
     "execution_count": 30,
     "metadata": {},
     "output_type": "execute_result"
    }
   ],
   "source": [
    "# MS means \"month start\"\n",
    "ffrM_resample = ffr.resample(\"MS\")\n",
    "type(ffrM_resample)"
   ]
  },
  {
   "cell_type": "markdown",
   "metadata": {},
   "source": [
    "Notice that when we call `resample` we don't get back a DataFrame at that frequency. This is because there is some ambiguity regarding just _how_ the frequency should be converted: should we take the average during the period, the first observation, last observation, sum the observations?\n",
    "\n",
    "In order to get a DataFrame we have to call a method on our `DatetimeIndexResampler` object. For this example, let's do the first observation in each period:"
   ]
  },
  {
   "cell_type": "code",
   "execution_count": 31,
   "metadata": {
    "collapsed": false
   },
   "outputs": [
    {
     "name": "stdout",
     "output_type": "stream",
     "text": [
      "Shape:  (376, 5)\n",
      "dtypes:  {'Total': dtype('float64'), 'Later Stage': dtype('float64'), 'Early Stage': dtype('float64'), 'Seed': dtype('float64'), 'Expansion': dtype('float64')}\n",
      "index dtype:  datetime64[ns]\n"
     ]
    },
    {
     "data": {
      "text/html": [
       "<div>\n",
       "<table border=\"1\" class=\"dataframe\">\n",
       "  <thead>\n",
       "    <tr style=\"text-align: right;\">\n",
       "      <th></th>\n",
       "      <th>Seed</th>\n",
       "      <th>Early Stage</th>\n",
       "      <th>Expansion</th>\n",
       "      <th>Later Stage</th>\n",
       "      <th>Total</th>\n",
       "    </tr>\n",
       "    <tr>\n",
       "      <th>Date</th>\n",
       "      <th></th>\n",
       "      <th></th>\n",
       "      <th></th>\n",
       "      <th></th>\n",
       "      <th></th>\n",
       "    </tr>\n",
       "  </thead>\n",
       "  <tbody>\n",
       "    <tr>\n",
       "      <th>1985-03-01</th>\n",
       "      <td>153.0000</td>\n",
       "      <td>96.3000</td>\n",
       "      <td>219.500</td>\n",
       "      <td>154.4000</td>\n",
       "      <td>623.1000</td>\n",
       "    </tr>\n",
       "    <tr>\n",
       "      <th>1985-04-01</th>\n",
       "      <td>NaN</td>\n",
       "      <td>NaN</td>\n",
       "      <td>NaN</td>\n",
       "      <td>NaN</td>\n",
       "      <td>NaN</td>\n",
       "    </tr>\n",
       "    <tr>\n",
       "      <th>1985-05-01</th>\n",
       "      <td>NaN</td>\n",
       "      <td>NaN</td>\n",
       "      <td>NaN</td>\n",
       "      <td>NaN</td>\n",
       "      <td>NaN</td>\n",
       "    </tr>\n",
       "    <tr>\n",
       "      <th>2016-04-01</th>\n",
       "      <td>NaN</td>\n",
       "      <td>NaN</td>\n",
       "      <td>NaN</td>\n",
       "      <td>NaN</td>\n",
       "      <td>NaN</td>\n",
       "    </tr>\n",
       "    <tr>\n",
       "      <th>2016-05-01</th>\n",
       "      <td>NaN</td>\n",
       "      <td>NaN</td>\n",
       "      <td>NaN</td>\n",
       "      <td>NaN</td>\n",
       "      <td>NaN</td>\n",
       "    </tr>\n",
       "    <tr>\n",
       "      <th>2016-06-01</th>\n",
       "      <td>534.7283</td>\n",
       "      <td>3962.5863</td>\n",
       "      <td>8507.181</td>\n",
       "      <td>2286.6906</td>\n",
       "      <td>15291.1862</td>\n",
       "    </tr>\n",
       "  </tbody>\n",
       "</table>\n",
       "</div>"
      ],
      "text/plain": [
       "                Seed  Early Stage  Expansion  Later Stage       Total\n",
       "Date                                                                 \n",
       "1985-03-01  153.0000      96.3000    219.500     154.4000    623.1000\n",
       "1985-04-01       NaN          NaN        NaN          NaN         NaN\n",
       "1985-05-01       NaN          NaN        NaN          NaN         NaN\n",
       "2016-04-01       NaN          NaN        NaN          NaN         NaN\n",
       "2016-05-01       NaN          NaN        NaN          NaN         NaN\n",
       "2016-06-01  534.7283    3962.5863   8507.181    2286.6906  15291.1862"
      ]
     },
     "execution_count": 31,
     "metadata": {},
     "output_type": "execute_result"
    }
   ],
   "source": [
    "ffrM = ffrM_resample.first()\n",
    "df_info(ffrM)"
   ]
  },
  {
   "cell_type": "markdown",
   "metadata": {},
   "source": [
    "Note that we can also combine numbers with the specification of the resampling frequency. As an example, we can resample to a bi-weekly frequency using"
   ]
  },
  {
   "cell_type": "code",
   "execution_count": 32,
   "metadata": {
    "collapsed": false
   },
   "outputs": [
    {
     "name": "stderr",
     "output_type": "stream",
     "text": [
      "/Users/vijaydas/anaconda/lib/python3.5/site-packages/IPython/lib/pretty.py:108: FutureWarning: .resample() is now a deferred operation\n",
      "use .resample(...).mean() instead of .resample(...)\n",
      "  return getattr(obj, attr, default)\n"
     ]
    },
    {
     "data": {
      "text/html": [
       "<div>\n",
       "<table border=\"1\" class=\"dataframe\">\n",
       "  <thead>\n",
       "    <tr style=\"text-align: right;\">\n",
       "      <th></th>\n",
       "      <th>Seed</th>\n",
       "      <th>Early Stage</th>\n",
       "      <th>Expansion</th>\n",
       "      <th>Later Stage</th>\n",
       "      <th>Total</th>\n",
       "    </tr>\n",
       "    <tr>\n",
       "      <th>Date</th>\n",
       "      <th></th>\n",
       "      <th></th>\n",
       "      <th></th>\n",
       "      <th></th>\n",
       "      <th></th>\n",
       "    </tr>\n",
       "  </thead>\n",
       "  <tbody>\n",
       "    <tr>\n",
       "      <th>1985-03-31</th>\n",
       "      <td>153.0000</td>\n",
       "      <td>96.3000</td>\n",
       "      <td>219.5000</td>\n",
       "      <td>154.4000</td>\n",
       "      <td>623.1000</td>\n",
       "    </tr>\n",
       "    <tr>\n",
       "      <th>1985-04-14</th>\n",
       "      <td>NaN</td>\n",
       "      <td>NaN</td>\n",
       "      <td>NaN</td>\n",
       "      <td>NaN</td>\n",
       "      <td>NaN</td>\n",
       "    </tr>\n",
       "    <tr>\n",
       "      <th>1985-04-28</th>\n",
       "      <td>NaN</td>\n",
       "      <td>NaN</td>\n",
       "      <td>NaN</td>\n",
       "      <td>NaN</td>\n",
       "      <td>NaN</td>\n",
       "    </tr>\n",
       "    <tr>\n",
       "      <th>1985-05-12</th>\n",
       "      <td>NaN</td>\n",
       "      <td>NaN</td>\n",
       "      <td>NaN</td>\n",
       "      <td>NaN</td>\n",
       "      <td>NaN</td>\n",
       "    </tr>\n",
       "    <tr>\n",
       "      <th>1985-05-26</th>\n",
       "      <td>NaN</td>\n",
       "      <td>NaN</td>\n",
       "      <td>NaN</td>\n",
       "      <td>NaN</td>\n",
       "      <td>NaN</td>\n",
       "    </tr>\n",
       "    <tr>\n",
       "      <th>1985-06-09</th>\n",
       "      <td>NaN</td>\n",
       "      <td>NaN</td>\n",
       "      <td>NaN</td>\n",
       "      <td>NaN</td>\n",
       "      <td>NaN</td>\n",
       "    </tr>\n",
       "    <tr>\n",
       "      <th>1985-06-23</th>\n",
       "      <td>NaN</td>\n",
       "      <td>NaN</td>\n",
       "      <td>NaN</td>\n",
       "      <td>NaN</td>\n",
       "      <td>NaN</td>\n",
       "    </tr>\n",
       "    <tr>\n",
       "      <th>1985-07-07</th>\n",
       "      <td>146.5000</td>\n",
       "      <td>185.3000</td>\n",
       "      <td>319.6000</td>\n",
       "      <td>89.4000</td>\n",
       "      <td>740.8000</td>\n",
       "    </tr>\n",
       "    <tr>\n",
       "      <th>1985-07-21</th>\n",
       "      <td>NaN</td>\n",
       "      <td>NaN</td>\n",
       "      <td>NaN</td>\n",
       "      <td>NaN</td>\n",
       "      <td>NaN</td>\n",
       "    </tr>\n",
       "    <tr>\n",
       "      <th>1985-08-04</th>\n",
       "      <td>NaN</td>\n",
       "      <td>NaN</td>\n",
       "      <td>NaN</td>\n",
       "      <td>NaN</td>\n",
       "      <td>NaN</td>\n",
       "    </tr>\n",
       "    <tr>\n",
       "      <th>1985-08-18</th>\n",
       "      <td>NaN</td>\n",
       "      <td>NaN</td>\n",
       "      <td>NaN</td>\n",
       "      <td>NaN</td>\n",
       "      <td>NaN</td>\n",
       "    </tr>\n",
       "    <tr>\n",
       "      <th>1985-09-01</th>\n",
       "      <td>NaN</td>\n",
       "      <td>NaN</td>\n",
       "      <td>NaN</td>\n",
       "      <td>NaN</td>\n",
       "      <td>NaN</td>\n",
       "    </tr>\n",
       "    <tr>\n",
       "      <th>1985-09-15</th>\n",
       "      <td>NaN</td>\n",
       "      <td>NaN</td>\n",
       "      <td>NaN</td>\n",
       "      <td>NaN</td>\n",
       "      <td>NaN</td>\n",
       "    </tr>\n",
       "    <tr>\n",
       "      <th>1985-09-29</th>\n",
       "      <td>NaN</td>\n",
       "      <td>NaN</td>\n",
       "      <td>NaN</td>\n",
       "      <td>NaN</td>\n",
       "      <td>NaN</td>\n",
       "    </tr>\n",
       "    <tr>\n",
       "      <th>1985-10-13</th>\n",
       "      <td>93.7000</td>\n",
       "      <td>106.3000</td>\n",
       "      <td>312.8000</td>\n",
       "      <td>164.4000</td>\n",
       "      <td>677.2000</td>\n",
       "    </tr>\n",
       "    <tr>\n",
       "      <th>1985-10-27</th>\n",
       "      <td>NaN</td>\n",
       "      <td>NaN</td>\n",
       "      <td>NaN</td>\n",
       "      <td>NaN</td>\n",
       "      <td>NaN</td>\n",
       "    </tr>\n",
       "    <tr>\n",
       "      <th>1985-11-10</th>\n",
       "      <td>NaN</td>\n",
       "      <td>NaN</td>\n",
       "      <td>NaN</td>\n",
       "      <td>NaN</td>\n",
       "      <td>NaN</td>\n",
       "    </tr>\n",
       "    <tr>\n",
       "      <th>1985-11-24</th>\n",
       "      <td>NaN</td>\n",
       "      <td>NaN</td>\n",
       "      <td>NaN</td>\n",
       "      <td>NaN</td>\n",
       "      <td>NaN</td>\n",
       "    </tr>\n",
       "    <tr>\n",
       "      <th>1985-12-08</th>\n",
       "      <td>NaN</td>\n",
       "      <td>NaN</td>\n",
       "      <td>NaN</td>\n",
       "      <td>NaN</td>\n",
       "      <td>NaN</td>\n",
       "    </tr>\n",
       "    <tr>\n",
       "      <th>1985-12-22</th>\n",
       "      <td>NaN</td>\n",
       "      <td>NaN</td>\n",
       "      <td>NaN</td>\n",
       "      <td>NaN</td>\n",
       "      <td>NaN</td>\n",
       "    </tr>\n",
       "    <tr>\n",
       "      <th>1986-01-05</th>\n",
       "      <td>133.0000</td>\n",
       "      <td>129.9000</td>\n",
       "      <td>393.7000</td>\n",
       "      <td>78.5000</td>\n",
       "      <td>735.1000</td>\n",
       "    </tr>\n",
       "    <tr>\n",
       "      <th>1986-01-19</th>\n",
       "      <td>NaN</td>\n",
       "      <td>NaN</td>\n",
       "      <td>NaN</td>\n",
       "      <td>NaN</td>\n",
       "      <td>NaN</td>\n",
       "    </tr>\n",
       "    <tr>\n",
       "      <th>1986-02-02</th>\n",
       "      <td>NaN</td>\n",
       "      <td>NaN</td>\n",
       "      <td>NaN</td>\n",
       "      <td>NaN</td>\n",
       "      <td>NaN</td>\n",
       "    </tr>\n",
       "    <tr>\n",
       "      <th>1986-02-16</th>\n",
       "      <td>NaN</td>\n",
       "      <td>NaN</td>\n",
       "      <td>NaN</td>\n",
       "      <td>NaN</td>\n",
       "      <td>NaN</td>\n",
       "    </tr>\n",
       "    <tr>\n",
       "      <th>1986-03-02</th>\n",
       "      <td>NaN</td>\n",
       "      <td>NaN</td>\n",
       "      <td>NaN</td>\n",
       "      <td>NaN</td>\n",
       "      <td>NaN</td>\n",
       "    </tr>\n",
       "    <tr>\n",
       "      <th>1986-03-16</th>\n",
       "      <td>NaN</td>\n",
       "      <td>NaN</td>\n",
       "      <td>NaN</td>\n",
       "      <td>NaN</td>\n",
       "      <td>NaN</td>\n",
       "    </tr>\n",
       "    <tr>\n",
       "      <th>1986-03-30</th>\n",
       "      <td>NaN</td>\n",
       "      <td>NaN</td>\n",
       "      <td>NaN</td>\n",
       "      <td>NaN</td>\n",
       "      <td>NaN</td>\n",
       "    </tr>\n",
       "    <tr>\n",
       "      <th>1986-04-13</th>\n",
       "      <td>185.6000</td>\n",
       "      <td>129.6000</td>\n",
       "      <td>270.0000</td>\n",
       "      <td>125.3000</td>\n",
       "      <td>710.5000</td>\n",
       "    </tr>\n",
       "    <tr>\n",
       "      <th>1986-04-27</th>\n",
       "      <td>NaN</td>\n",
       "      <td>NaN</td>\n",
       "      <td>NaN</td>\n",
       "      <td>NaN</td>\n",
       "      <td>NaN</td>\n",
       "    </tr>\n",
       "    <tr>\n",
       "      <th>1986-05-11</th>\n",
       "      <td>NaN</td>\n",
       "      <td>NaN</td>\n",
       "      <td>NaN</td>\n",
       "      <td>NaN</td>\n",
       "      <td>NaN</td>\n",
       "    </tr>\n",
       "    <tr>\n",
       "      <th>...</th>\n",
       "      <td>...</td>\n",
       "      <td>...</td>\n",
       "      <td>...</td>\n",
       "      <td>...</td>\n",
       "      <td>...</td>\n",
       "    </tr>\n",
       "    <tr>\n",
       "      <th>2015-05-31</th>\n",
       "      <td>NaN</td>\n",
       "      <td>NaN</td>\n",
       "      <td>NaN</td>\n",
       "      <td>NaN</td>\n",
       "      <td>NaN</td>\n",
       "    </tr>\n",
       "    <tr>\n",
       "      <th>2015-06-14</th>\n",
       "      <td>NaN</td>\n",
       "      <td>NaN</td>\n",
       "      <td>NaN</td>\n",
       "      <td>NaN</td>\n",
       "      <td>NaN</td>\n",
       "    </tr>\n",
       "    <tr>\n",
       "      <th>2015-06-28</th>\n",
       "      <td>NaN</td>\n",
       "      <td>NaN</td>\n",
       "      <td>NaN</td>\n",
       "      <td>NaN</td>\n",
       "      <td>NaN</td>\n",
       "    </tr>\n",
       "    <tr>\n",
       "      <th>2015-07-12</th>\n",
       "      <td>198.6300</td>\n",
       "      <td>5834.7760</td>\n",
       "      <td>7297.3574</td>\n",
       "      <td>4077.8173</td>\n",
       "      <td>17408.5807</td>\n",
       "    </tr>\n",
       "    <tr>\n",
       "      <th>2015-07-26</th>\n",
       "      <td>NaN</td>\n",
       "      <td>NaN</td>\n",
       "      <td>NaN</td>\n",
       "      <td>NaN</td>\n",
       "      <td>NaN</td>\n",
       "    </tr>\n",
       "    <tr>\n",
       "      <th>2015-08-09</th>\n",
       "      <td>NaN</td>\n",
       "      <td>NaN</td>\n",
       "      <td>NaN</td>\n",
       "      <td>NaN</td>\n",
       "      <td>NaN</td>\n",
       "    </tr>\n",
       "    <tr>\n",
       "      <th>2015-08-23</th>\n",
       "      <td>NaN</td>\n",
       "      <td>NaN</td>\n",
       "      <td>NaN</td>\n",
       "      <td>NaN</td>\n",
       "      <td>NaN</td>\n",
       "    </tr>\n",
       "    <tr>\n",
       "      <th>2015-09-06</th>\n",
       "      <td>NaN</td>\n",
       "      <td>NaN</td>\n",
       "      <td>NaN</td>\n",
       "      <td>NaN</td>\n",
       "      <td>NaN</td>\n",
       "    </tr>\n",
       "    <tr>\n",
       "      <th>2015-09-20</th>\n",
       "      <td>NaN</td>\n",
       "      <td>NaN</td>\n",
       "      <td>NaN</td>\n",
       "      <td>NaN</td>\n",
       "      <td>NaN</td>\n",
       "    </tr>\n",
       "    <tr>\n",
       "      <th>2015-10-04</th>\n",
       "      <td>252.9111</td>\n",
       "      <td>5514.2338</td>\n",
       "      <td>6420.7458</td>\n",
       "      <td>4518.2222</td>\n",
       "      <td>16706.1129</td>\n",
       "    </tr>\n",
       "    <tr>\n",
       "      <th>2015-10-18</th>\n",
       "      <td>NaN</td>\n",
       "      <td>NaN</td>\n",
       "      <td>NaN</td>\n",
       "      <td>NaN</td>\n",
       "      <td>NaN</td>\n",
       "    </tr>\n",
       "    <tr>\n",
       "      <th>2015-11-01</th>\n",
       "      <td>NaN</td>\n",
       "      <td>NaN</td>\n",
       "      <td>NaN</td>\n",
       "      <td>NaN</td>\n",
       "      <td>NaN</td>\n",
       "    </tr>\n",
       "    <tr>\n",
       "      <th>2015-11-15</th>\n",
       "      <td>NaN</td>\n",
       "      <td>NaN</td>\n",
       "      <td>NaN</td>\n",
       "      <td>NaN</td>\n",
       "      <td>NaN</td>\n",
       "    </tr>\n",
       "    <tr>\n",
       "      <th>2015-11-29</th>\n",
       "      <td>NaN</td>\n",
       "      <td>NaN</td>\n",
       "      <td>NaN</td>\n",
       "      <td>NaN</td>\n",
       "      <td>NaN</td>\n",
       "    </tr>\n",
       "    <tr>\n",
       "      <th>2015-12-13</th>\n",
       "      <td>NaN</td>\n",
       "      <td>NaN</td>\n",
       "      <td>NaN</td>\n",
       "      <td>NaN</td>\n",
       "      <td>NaN</td>\n",
       "    </tr>\n",
       "    <tr>\n",
       "      <th>2015-12-27</th>\n",
       "      <td>NaN</td>\n",
       "      <td>NaN</td>\n",
       "      <td>NaN</td>\n",
       "      <td>NaN</td>\n",
       "      <td>NaN</td>\n",
       "    </tr>\n",
       "    <tr>\n",
       "      <th>2016-01-10</th>\n",
       "      <td>482.5349</td>\n",
       "      <td>5193.9647</td>\n",
       "      <td>3282.8216</td>\n",
       "      <td>3167.6023</td>\n",
       "      <td>12126.9235</td>\n",
       "    </tr>\n",
       "    <tr>\n",
       "      <th>2016-01-24</th>\n",
       "      <td>NaN</td>\n",
       "      <td>NaN</td>\n",
       "      <td>NaN</td>\n",
       "      <td>NaN</td>\n",
       "      <td>NaN</td>\n",
       "    </tr>\n",
       "    <tr>\n",
       "      <th>2016-02-07</th>\n",
       "      <td>NaN</td>\n",
       "      <td>NaN</td>\n",
       "      <td>NaN</td>\n",
       "      <td>NaN</td>\n",
       "      <td>NaN</td>\n",
       "    </tr>\n",
       "    <tr>\n",
       "      <th>2016-02-21</th>\n",
       "      <td>NaN</td>\n",
       "      <td>NaN</td>\n",
       "      <td>NaN</td>\n",
       "      <td>NaN</td>\n",
       "      <td>NaN</td>\n",
       "    </tr>\n",
       "    <tr>\n",
       "      <th>2016-03-06</th>\n",
       "      <td>NaN</td>\n",
       "      <td>NaN</td>\n",
       "      <td>NaN</td>\n",
       "      <td>NaN</td>\n",
       "      <td>NaN</td>\n",
       "    </tr>\n",
       "    <tr>\n",
       "      <th>2016-03-20</th>\n",
       "      <td>NaN</td>\n",
       "      <td>NaN</td>\n",
       "      <td>NaN</td>\n",
       "      <td>NaN</td>\n",
       "      <td>NaN</td>\n",
       "    </tr>\n",
       "    <tr>\n",
       "      <th>2016-04-03</th>\n",
       "      <td>561.8670</td>\n",
       "      <td>4601.1276</td>\n",
       "      <td>4010.2623</td>\n",
       "      <td>3516.5483</td>\n",
       "      <td>12689.8052</td>\n",
       "    </tr>\n",
       "    <tr>\n",
       "      <th>2016-04-17</th>\n",
       "      <td>NaN</td>\n",
       "      <td>NaN</td>\n",
       "      <td>NaN</td>\n",
       "      <td>NaN</td>\n",
       "      <td>NaN</td>\n",
       "    </tr>\n",
       "    <tr>\n",
       "      <th>2016-05-01</th>\n",
       "      <td>NaN</td>\n",
       "      <td>NaN</td>\n",
       "      <td>NaN</td>\n",
       "      <td>NaN</td>\n",
       "      <td>NaN</td>\n",
       "    </tr>\n",
       "    <tr>\n",
       "      <th>2016-05-15</th>\n",
       "      <td>NaN</td>\n",
       "      <td>NaN</td>\n",
       "      <td>NaN</td>\n",
       "      <td>NaN</td>\n",
       "      <td>NaN</td>\n",
       "    </tr>\n",
       "    <tr>\n",
       "      <th>2016-05-29</th>\n",
       "      <td>NaN</td>\n",
       "      <td>NaN</td>\n",
       "      <td>NaN</td>\n",
       "      <td>NaN</td>\n",
       "      <td>NaN</td>\n",
       "    </tr>\n",
       "    <tr>\n",
       "      <th>2016-06-12</th>\n",
       "      <td>NaN</td>\n",
       "      <td>NaN</td>\n",
       "      <td>NaN</td>\n",
       "      <td>NaN</td>\n",
       "      <td>NaN</td>\n",
       "    </tr>\n",
       "    <tr>\n",
       "      <th>2016-06-26</th>\n",
       "      <td>NaN</td>\n",
       "      <td>NaN</td>\n",
       "      <td>NaN</td>\n",
       "      <td>NaN</td>\n",
       "      <td>NaN</td>\n",
       "    </tr>\n",
       "    <tr>\n",
       "      <th>2016-07-10</th>\n",
       "      <td>534.7283</td>\n",
       "      <td>3962.5863</td>\n",
       "      <td>8507.1810</td>\n",
       "      <td>2286.6906</td>\n",
       "      <td>15291.1862</td>\n",
       "    </tr>\n",
       "  </tbody>\n",
       "</table>\n",
       "<p>817 rows × 5 columns</p>\n",
       "</div>"
      ],
      "text/plain": [
       "DatetimeIndexResampler [freq=<2 * Weeks: weekday=6>, axis=0, closed=right, label=right, convention=start, base=0]"
      ]
     },
     "execution_count": 32,
     "metadata": {},
     "output_type": "execute_result"
    }
   ],
   "source": [
    "ffr.resample(\"2w\")"
   ]
  },
  {
   "cell_type": "markdown",
   "metadata": {},
   "source": [
    "**Exercise (5 min)**: Using the [documentation](http://pandas.pydata.org/pandas-docs/stable/timeseries.html#offset-aliases) for the most common frequencies, figure out how to resample one of your datasets to \n",
    "\n",
    "- A quarterly frequency -- make sure to get the _start_ of the quarter\n",
    "- An annual frequency -- use the end of the _year_"
   ]
  },
  {
   "cell_type": "markdown",
   "metadata": {},
   "source": [
    "**more than you need**: I want to point out that when you use the `first` or `last` methods to perform the aggregations, there are two dates involved: (1) the date the resultant index will have and (2) the date used to fill in the data at that date. The first date (one on the index) will be assigned based on the string you pass to the `resample` method. The second date (the one for extracting data from the original dataframe) will be determined based on the method used to do the aggregation. `first` will extract the first data point from that subset and `last` will extract the last.\n",
    "\n",
    "Let's see some examples:"
   ]
  },
  {
   "cell_type": "code",
   "execution_count": 33,
   "metadata": {
    "collapsed": false
   },
   "outputs": [
    {
     "data": {
      "text/html": [
       "<div>\n",
       "<table border=\"1\" class=\"dataframe\">\n",
       "  <thead>\n",
       "    <tr style=\"text-align: right;\">\n",
       "      <th></th>\n",
       "      <th>Seed</th>\n",
       "      <th>Early Stage</th>\n",
       "      <th>Expansion</th>\n",
       "      <th>Later Stage</th>\n",
       "      <th>Total</th>\n",
       "    </tr>\n",
       "    <tr>\n",
       "      <th>Date</th>\n",
       "      <th></th>\n",
       "      <th></th>\n",
       "      <th></th>\n",
       "      <th></th>\n",
       "      <th></th>\n",
       "    </tr>\n",
       "  </thead>\n",
       "  <tbody>\n",
       "    <tr>\n",
       "      <th>1985-03-31</th>\n",
       "      <td>153.0</td>\n",
       "      <td>96.3</td>\n",
       "      <td>219.5</td>\n",
       "      <td>154.4</td>\n",
       "      <td>623.1</td>\n",
       "    </tr>\n",
       "    <tr>\n",
       "      <th>1985-04-30</th>\n",
       "      <td>NaN</td>\n",
       "      <td>NaN</td>\n",
       "      <td>NaN</td>\n",
       "      <td>NaN</td>\n",
       "      <td>NaN</td>\n",
       "    </tr>\n",
       "    <tr>\n",
       "      <th>1985-05-31</th>\n",
       "      <td>NaN</td>\n",
       "      <td>NaN</td>\n",
       "      <td>NaN</td>\n",
       "      <td>NaN</td>\n",
       "      <td>NaN</td>\n",
       "    </tr>\n",
       "    <tr>\n",
       "      <th>1985-06-30</th>\n",
       "      <td>146.5</td>\n",
       "      <td>185.3</td>\n",
       "      <td>319.6</td>\n",
       "      <td>89.4</td>\n",
       "      <td>740.8</td>\n",
       "    </tr>\n",
       "    <tr>\n",
       "      <th>1985-07-31</th>\n",
       "      <td>NaN</td>\n",
       "      <td>NaN</td>\n",
       "      <td>NaN</td>\n",
       "      <td>NaN</td>\n",
       "      <td>NaN</td>\n",
       "    </tr>\n",
       "  </tbody>\n",
       "</table>\n",
       "</div>"
      ],
      "text/plain": [
       "             Seed  Early Stage  Expansion  Later Stage  Total\n",
       "Date                                                         \n",
       "1985-03-31  153.0         96.3      219.5        154.4  623.1\n",
       "1985-04-30    NaN          NaN        NaN          NaN    NaN\n",
       "1985-05-31    NaN          NaN        NaN          NaN    NaN\n",
       "1985-06-30  146.5        185.3      319.6         89.4  740.8\n",
       "1985-07-31    NaN          NaN        NaN          NaN    NaN"
      ]
     },
     "execution_count": 33,
     "metadata": {},
     "output_type": "execute_result"
    }
   ],
   "source": [
    "ffr.resample(\"M\").first().head()"
   ]
  },
  {
   "cell_type": "code",
   "execution_count": 34,
   "metadata": {
    "collapsed": false
   },
   "outputs": [
    {
     "data": {
      "text/html": [
       "<div>\n",
       "<table border=\"1\" class=\"dataframe\">\n",
       "  <thead>\n",
       "    <tr style=\"text-align: right;\">\n",
       "      <th></th>\n",
       "      <th>Seed</th>\n",
       "      <th>Early Stage</th>\n",
       "      <th>Expansion</th>\n",
       "      <th>Later Stage</th>\n",
       "      <th>Total</th>\n",
       "    </tr>\n",
       "    <tr>\n",
       "      <th>Date</th>\n",
       "      <th></th>\n",
       "      <th></th>\n",
       "      <th></th>\n",
       "      <th></th>\n",
       "      <th></th>\n",
       "    </tr>\n",
       "  </thead>\n",
       "  <tbody>\n",
       "    <tr>\n",
       "      <th>1985-03-31</th>\n",
       "      <td>153.0</td>\n",
       "      <td>96.3</td>\n",
       "      <td>219.5</td>\n",
       "      <td>154.4</td>\n",
       "      <td>623.1</td>\n",
       "    </tr>\n",
       "    <tr>\n",
       "      <th>1985-04-30</th>\n",
       "      <td>NaN</td>\n",
       "      <td>NaN</td>\n",
       "      <td>NaN</td>\n",
       "      <td>NaN</td>\n",
       "      <td>NaN</td>\n",
       "    </tr>\n",
       "    <tr>\n",
       "      <th>1985-05-31</th>\n",
       "      <td>NaN</td>\n",
       "      <td>NaN</td>\n",
       "      <td>NaN</td>\n",
       "      <td>NaN</td>\n",
       "      <td>NaN</td>\n",
       "    </tr>\n",
       "    <tr>\n",
       "      <th>1985-06-30</th>\n",
       "      <td>146.5</td>\n",
       "      <td>185.3</td>\n",
       "      <td>319.6</td>\n",
       "      <td>89.4</td>\n",
       "      <td>740.8</td>\n",
       "    </tr>\n",
       "    <tr>\n",
       "      <th>1985-07-31</th>\n",
       "      <td>NaN</td>\n",
       "      <td>NaN</td>\n",
       "      <td>NaN</td>\n",
       "      <td>NaN</td>\n",
       "      <td>NaN</td>\n",
       "    </tr>\n",
       "  </tbody>\n",
       "</table>\n",
       "</div>"
      ],
      "text/plain": [
       "             Seed  Early Stage  Expansion  Later Stage  Total\n",
       "Date                                                         \n",
       "1985-03-31  153.0         96.3      219.5        154.4  623.1\n",
       "1985-04-30    NaN          NaN        NaN          NaN    NaN\n",
       "1985-05-31    NaN          NaN        NaN          NaN    NaN\n",
       "1985-06-30  146.5        185.3      319.6         89.4  740.8\n",
       "1985-07-31    NaN          NaN        NaN          NaN    NaN"
      ]
     },
     "execution_count": 34,
     "metadata": {},
     "output_type": "execute_result"
    }
   ],
   "source": [
    "ffr.resample(\"M\").last().head()"
   ]
  },
  {
   "cell_type": "markdown",
   "metadata": {},
   "source": [
    "Notice that the index is the same on both, but the data is clearly different.\n",
    "\n",
    "If we use `MS` instead of `M` we will have the index based on the first day of the month:"
   ]
  },
  {
   "cell_type": "code",
   "execution_count": 35,
   "metadata": {
    "collapsed": false
   },
   "outputs": [
    {
     "data": {
      "text/html": [
       "<div>\n",
       "<table border=\"1\" class=\"dataframe\">\n",
       "  <thead>\n",
       "    <tr style=\"text-align: right;\">\n",
       "      <th></th>\n",
       "      <th>Seed</th>\n",
       "      <th>Early Stage</th>\n",
       "      <th>Expansion</th>\n",
       "      <th>Later Stage</th>\n",
       "      <th>Total</th>\n",
       "    </tr>\n",
       "    <tr>\n",
       "      <th>Date</th>\n",
       "      <th></th>\n",
       "      <th></th>\n",
       "      <th></th>\n",
       "      <th></th>\n",
       "      <th></th>\n",
       "    </tr>\n",
       "  </thead>\n",
       "  <tbody>\n",
       "    <tr>\n",
       "      <th>1985-03-01</th>\n",
       "      <td>153.0</td>\n",
       "      <td>96.3</td>\n",
       "      <td>219.5</td>\n",
       "      <td>154.4</td>\n",
       "      <td>623.1</td>\n",
       "    </tr>\n",
       "    <tr>\n",
       "      <th>1985-04-01</th>\n",
       "      <td>NaN</td>\n",
       "      <td>NaN</td>\n",
       "      <td>NaN</td>\n",
       "      <td>NaN</td>\n",
       "      <td>NaN</td>\n",
       "    </tr>\n",
       "    <tr>\n",
       "      <th>1985-05-01</th>\n",
       "      <td>NaN</td>\n",
       "      <td>NaN</td>\n",
       "      <td>NaN</td>\n",
       "      <td>NaN</td>\n",
       "      <td>NaN</td>\n",
       "    </tr>\n",
       "    <tr>\n",
       "      <th>1985-06-01</th>\n",
       "      <td>146.5</td>\n",
       "      <td>185.3</td>\n",
       "      <td>319.6</td>\n",
       "      <td>89.4</td>\n",
       "      <td>740.8</td>\n",
       "    </tr>\n",
       "    <tr>\n",
       "      <th>1985-07-01</th>\n",
       "      <td>NaN</td>\n",
       "      <td>NaN</td>\n",
       "      <td>NaN</td>\n",
       "      <td>NaN</td>\n",
       "      <td>NaN</td>\n",
       "    </tr>\n",
       "  </tbody>\n",
       "</table>\n",
       "</div>"
      ],
      "text/plain": [
       "             Seed  Early Stage  Expansion  Later Stage  Total\n",
       "Date                                                         \n",
       "1985-03-01  153.0         96.3      219.5        154.4  623.1\n",
       "1985-04-01    NaN          NaN        NaN          NaN    NaN\n",
       "1985-05-01    NaN          NaN        NaN          NaN    NaN\n",
       "1985-06-01  146.5        185.3      319.6         89.4  740.8\n",
       "1985-07-01    NaN          NaN        NaN          NaN    NaN"
      ]
     },
     "execution_count": 35,
     "metadata": {},
     "output_type": "execute_result"
    }
   ],
   "source": [
    "ffr.resample(\"MS\").first().head()"
   ]
  },
  {
   "cell_type": "code",
   "execution_count": 36,
   "metadata": {
    "collapsed": false
   },
   "outputs": [
    {
     "data": {
      "text/html": [
       "<div>\n",
       "<table border=\"1\" class=\"dataframe\">\n",
       "  <thead>\n",
       "    <tr style=\"text-align: right;\">\n",
       "      <th></th>\n",
       "      <th>Seed</th>\n",
       "      <th>Early Stage</th>\n",
       "      <th>Expansion</th>\n",
       "      <th>Later Stage</th>\n",
       "      <th>Total</th>\n",
       "    </tr>\n",
       "    <tr>\n",
       "      <th>Date</th>\n",
       "      <th></th>\n",
       "      <th></th>\n",
       "      <th></th>\n",
       "      <th></th>\n",
       "      <th></th>\n",
       "    </tr>\n",
       "  </thead>\n",
       "  <tbody>\n",
       "    <tr>\n",
       "      <th>1985-03-01</th>\n",
       "      <td>153.0</td>\n",
       "      <td>96.3</td>\n",
       "      <td>219.5</td>\n",
       "      <td>154.4</td>\n",
       "      <td>623.1</td>\n",
       "    </tr>\n",
       "    <tr>\n",
       "      <th>1985-04-01</th>\n",
       "      <td>NaN</td>\n",
       "      <td>NaN</td>\n",
       "      <td>NaN</td>\n",
       "      <td>NaN</td>\n",
       "      <td>NaN</td>\n",
       "    </tr>\n",
       "    <tr>\n",
       "      <th>1985-05-01</th>\n",
       "      <td>NaN</td>\n",
       "      <td>NaN</td>\n",
       "      <td>NaN</td>\n",
       "      <td>NaN</td>\n",
       "      <td>NaN</td>\n",
       "    </tr>\n",
       "    <tr>\n",
       "      <th>1985-06-01</th>\n",
       "      <td>146.5</td>\n",
       "      <td>185.3</td>\n",
       "      <td>319.6</td>\n",
       "      <td>89.4</td>\n",
       "      <td>740.8</td>\n",
       "    </tr>\n",
       "    <tr>\n",
       "      <th>1985-07-01</th>\n",
       "      <td>NaN</td>\n",
       "      <td>NaN</td>\n",
       "      <td>NaN</td>\n",
       "      <td>NaN</td>\n",
       "      <td>NaN</td>\n",
       "    </tr>\n",
       "  </tbody>\n",
       "</table>\n",
       "</div>"
      ],
      "text/plain": [
       "             Seed  Early Stage  Expansion  Later Stage  Total\n",
       "Date                                                         \n",
       "1985-03-01  153.0         96.3      219.5        154.4  623.1\n",
       "1985-04-01    NaN          NaN        NaN          NaN    NaN\n",
       "1985-05-01    NaN          NaN        NaN          NaN    NaN\n",
       "1985-06-01  146.5        185.3      319.6         89.4  740.8\n",
       "1985-07-01    NaN          NaN        NaN          NaN    NaN"
      ]
     },
     "execution_count": 36,
     "metadata": {},
     "output_type": "execute_result"
    }
   ],
   "source": [
    "ffr.resample(\"MS\").last().head()"
   ]
  },
  {
   "cell_type": "markdown",
   "metadata": {},
   "source": [
    "Notice how the data associated with `\"M\"` and `first` is the same as the data for `\"MS\"` and `first`. The same holds for `last`."
   ]
  },
  {
   "cell_type": "markdown",
   "metadata": {},
   "source": [
    "### Access year, month, day...\n",
    "\n",
    "Given a `DatetimeIndex` you can access the day, month, or year (also second, millisecond, etc.) by simply accessing the `.XX` property; where `XX` is the data you want"
   ]
  },
  {
   "cell_type": "code",
   "execution_count": 37,
   "metadata": {
    "collapsed": false
   },
   "outputs": [
    {
     "data": {
      "text/plain": [
       "array([1985, 1985, 1985, 1985, 1986, 1986, 1986, 1986, 1987, 1987, 1987,\n",
       "       1987, 1988, 1988, 1988, 1988, 1989, 1989, 1989, 1989, 1990, 1990,\n",
       "       1990, 1990, 1991, 1991, 1991, 1991, 1992, 1992, 1992, 1992, 1993,\n",
       "       1993, 1993, 1993, 1994, 1994, 1994, 1994, 1995, 1995, 1995, 1995,\n",
       "       1996, 1996, 1996, 1996, 1997, 1997, 1997, 1997, 1998, 1998, 1998,\n",
       "       1998, 1999, 1999, 1999, 1999, 2000, 2000, 2000, 2000, 2001, 2001,\n",
       "       2001, 2001, 2002, 2002, 2002, 2002, 2003, 2003, 2003, 2003, 2004,\n",
       "       2004, 2004, 2004, 2005, 2005, 2005, 2005, 2006, 2006, 2006, 2006,\n",
       "       2007, 2007, 2007, 2007, 2008, 2008, 2008, 2008, 2009, 2009, 2009,\n",
       "       2009, 2010, 2010, 2010, 2010, 2011, 2011, 2011, 2011, 2012, 2012,\n",
       "       2012, 2012, 2013, 2013, 2013, 2013, 2014, 2014, 2014, 2014, 2015,\n",
       "       2015, 2015, 2015, 2016, 2016], dtype=int32)"
      ]
     },
     "execution_count": 37,
     "metadata": {},
     "output_type": "execute_result"
    }
   ],
   "source": [
    "ffr.index.year"
   ]
  },
  {
   "cell_type": "code",
   "execution_count": 38,
   "metadata": {
    "collapsed": false
   },
   "outputs": [
    {
     "data": {
      "text/plain": [
       "array([31, 30, 30, 31, 31, 30, 30, 31, 31, 30, 30, 31, 31, 30, 30, 31, 31,\n",
       "       30, 30, 31, 31, 30, 30, 31, 31, 30, 30, 31, 31, 30, 30, 31, 31, 30,\n",
       "       30, 31, 31, 30, 30, 31, 31, 30, 30, 31, 31, 30, 30, 31, 31, 30, 30,\n",
       "       31, 31, 30, 30, 31, 31, 30, 30, 31, 31, 30, 30, 31, 31, 30, 30, 31,\n",
       "       31, 30, 30, 31, 31, 30, 30, 31, 31, 30, 30, 31, 31, 30, 30, 31, 31,\n",
       "       30, 30, 31, 31, 30, 30, 31, 31, 30, 30, 31, 31, 30, 30, 31, 31, 30,\n",
       "       30, 31, 31, 30, 30, 31, 31, 30, 30, 31, 31, 30, 30, 31, 31, 30, 30,\n",
       "       31, 31, 30, 30, 31, 31, 30], dtype=int32)"
      ]
     },
     "execution_count": 38,
     "metadata": {},
     "output_type": "execute_result"
    }
   ],
   "source": [
    "ffr.index.day"
   ]
  },
  {
   "cell_type": "code",
   "execution_count": 39,
   "metadata": {
    "collapsed": false
   },
   "outputs": [
    {
     "data": {
      "text/plain": [
       "array([ 3,  6,  9, 12,  3,  6,  9, 12,  3,  6,  9, 12,  3,  6,  9, 12,  3,\n",
       "        6,  9, 12,  3,  6,  9, 12,  3,  6,  9, 12,  3,  6,  9, 12,  3,  6,\n",
       "        9, 12,  3,  6,  9, 12,  3,  6,  9, 12,  3,  6,  9, 12,  3,  6,  9,\n",
       "       12,  3,  6,  9, 12,  3,  6,  9, 12,  3,  6,  9, 12,  3,  6,  9, 12,\n",
       "        3,  6,  9, 12,  3,  6,  9, 12,  3,  6,  9, 12,  3,  6,  9, 12,  3,\n",
       "        6,  9, 12,  3,  6,  9, 12,  3,  6,  9, 12,  3,  6,  9, 12,  3,  6,\n",
       "        9, 12,  3,  6,  9, 12,  3,  6,  9, 12,  3,  6,  9, 12,  3,  6,  9,\n",
       "       12,  3,  6,  9, 12,  3,  6], dtype=int32)"
      ]
     },
     "execution_count": 39,
     "metadata": {},
     "output_type": "execute_result"
    }
   ],
   "source": [
    "ffr.index.month"
   ]
  },
  {
   "cell_type": "markdown",
   "metadata": {},
   "source": [
    "### Rolling computations\n",
    "\n",
    "We can use pandas to do rolling computations.\n",
    "\n",
    "For example, suppose we **want** to plot the maximum and minimum of the risk free rate within the past week at each date (think about that slowly -- for every date, we want to look back 7 days and compute the max).\n",
    "\n",
    "Here's how we can do that"
   ]
  },
  {
   "cell_type": "code",
   "execution_count": null,
   "metadata": {
    "collapsed": false
   },
   "outputs": [],
   "source": [
    "fig, ax = plt.subplots()\n",
    "ffr.rolling(window=7).max().plot(ax=ax)\n",
    "ffr.rolling(window=7).min().plot(ax=ax)\n",
    "ax.legend([\"max\", \"min\"])"
   ]
  },
  {
   "cell_type": "markdown",
   "metadata": {},
   "source": [
    "Note that this is different from just resampling because we will have an observation for every date in the original dataframe (except the number of dates at the front needed to construct the initial window)."
   ]
  },
  {
   "cell_type": "code",
   "execution_count": null,
   "metadata": {
    "collapsed": false
   },
   "outputs": [],
   "source": [
    "ffr.rolling(window=7).max().head(10)"
   ]
  },
  {
   "cell_type": "code",
   "execution_count": null,
   "metadata": {
    "collapsed": false
   },
   "outputs": [],
   "source": [
    "ffr.resample(\"7D\").max().head(10)"
   ]
  },
  {
   "cell_type": "markdown",
   "metadata": {},
   "source": [
    "### Merging with dates\n",
    "\n",
    "Let's see what happens when we merge the ffr and vc datasets"
   ]
  },
  {
   "cell_type": "code",
   "execution_count": null,
   "metadata": {
    "collapsed": false
   },
   "outputs": [],
   "source": [
    "# do a left merge on the index (date info)\n",
    "df = pd.merge(ffr, vc, left_index=True, right_index=True, how=\"left\")\n",
    "df_info(df)"
   ]
  },
  {
   "cell_type": "code",
   "execution_count": null,
   "metadata": {
    "collapsed": false
   },
   "outputs": [],
   "source": [
    "vc.head()"
   ]
  },
  {
   "cell_type": "markdown",
   "metadata": {},
   "source": [
    "Notice that we ended up with a lot of missing data. This happened for two reasons:\n",
    "\n",
    "1. The ffr data goes back to 1954, but the vc data starts in 1985\n",
    "2. The ffr data is at a daily frequency, but vc is at quarterly.\n",
    "\n",
    "To resolve the first issue we can subset the ffr data and only keep from 1985 on"
   ]
  },
  {
   "cell_type": "code",
   "execution_count": null,
   "metadata": {
    "collapsed": false
   },
   "outputs": [],
   "source": [
    "ffr_recent = ffr[\"1985\":]"
   ]
  },
  {
   "cell_type": "markdown",
   "metadata": {},
   "source": [
    "To resolve the second issue we will do two-steps:\n",
    "\n",
    "1. resample the `ffr` data to a monthly frequency\n",
    "2. resample the `vc` data to a monthly frequency by _padding_. This is called upsampling because we are going from a lower frequency (quarterly) to a higher one (monthly)"
   ]
  },
  {
   "cell_type": "code",
   "execution_count": null,
   "metadata": {
    "collapsed": true
   },
   "outputs": [],
   "source": [
    "ffr_recentM = ffr_recent.resample(\"M\").first()\n",
    "vc_M = vc.resample(\"M\").pad()"
   ]
  },
  {
   "cell_type": "code",
   "execution_count": null,
   "metadata": {
    "collapsed": false
   },
   "outputs": [],
   "source": [
    "vc_M.head()"
   ]
  },
  {
   "cell_type": "markdown",
   "metadata": {},
   "source": [
    "Notice that using `pad` here just copied data forwards to fill in missing months (e.g. the data for March 1985 was applied to April and May)"
   ]
  },
  {
   "cell_type": "markdown",
   "metadata": {},
   "source": [
    "Now let's try that merge again"
   ]
  },
  {
   "cell_type": "code",
   "execution_count": null,
   "metadata": {
    "collapsed": false
   },
   "outputs": [],
   "source": [
    "df = pd.merge(ffr_recentM, vc_M, left_index=True, right_index=True, how=\"left\")\n",
    "print(df.head(6))\n",
    "print(\"\\n\\n\", df.tail(8))"
   ]
  },
  {
   "cell_type": "markdown",
   "metadata": {},
   "source": [
    "That looks much better -- we have missing data at the top and the bottom for months that aren't available in the venture capital dataset, but nothing else should be missing."
   ]
  },
  {
   "cell_type": "markdown",
   "metadata": {},
   "source": [
    "Let's try to do something interesting with this data. We **want** to plot the growth rate in the risk free rate, early stage vc funding, and total vc funding for the months following the start of the dotcom boom (rougly Jan 1995) and the housing boom (roughly Jan 2004). \n",
    "\n",
    "Read that again carefully. \n",
    "\n",
    "For each of the three series we want 2 lines. For each line, the x axis will be quarters since start of boom. The y axis growth rates since first month of bubble."
   ]
  },
  {
   "cell_type": "code",
   "execution_count": null,
   "metadata": {
    "collapsed": true
   },
   "outputs": [],
   "source": [
    "# subset the data, then remove datetime index as we don't need it again\n",
    "post_dotcom = df[\"1995\":].reset_index(drop=True)\n",
    "post_housing = df[\"2004\":].reset_index(drop=True)\n",
    "\n",
    "# take logs so we can do growth rates as log(x_{t+N}) - log(x_t)\n",
    "post_dotcom = np.log(post_dotcom)\n",
    "post_housing = np.log(post_housing)\n",
    "\n",
    "dotcom_growth = post_dotcom - post_dotcom.iloc[0, :]\n",
    "housing_growth = post_housing - post_housing.iloc[0, :]"
   ]
  },
  {
   "cell_type": "code",
   "execution_count": null,
   "metadata": {
    "collapsed": false
   },
   "outputs": [],
   "source": [
    "fig, axs = plt.subplots(3, 1, figsize=(10, 5))\n",
    "\n",
    "variables = [\"risk_free_rate\", \"Early Stage\", \"Total\"]\n",
    "\n",
    "for i in range(len(variables)):\n",
    "    var = variables[i]\n",
    "    \n",
    "    # add dotcom line\n",
    "    dotcom_growth[var].plot(ax=axs[i])\n",
    "    \n",
    "    # add housing line\n",
    "    housing_growth[var].plot(ax=axs[i])\n",
    "    \n",
    "    # set title\n",
    "    axs[i].set_title(var)\n",
    "\n",
    "# set legend and xlabel on last plot only\n",
    "axs[-1].legend([\"dotcom\", \"housing\"])\n",
    "axs[-1].set_xlabel(\"Quarters since boom\")\n",
    "        \n",
    "# make subplots not overlap\n",
    "fig.tight_layout()"
   ]
  },
  {
   "cell_type": "markdown",
   "metadata": {},
   "source": [
    "So we see that these booms were qualitatively different in terms of the response of the risk free rate and venture capital funding."
   ]
  },
  {
   "cell_type": "code",
   "execution_count": null,
   "metadata": {
    "collapsed": true
   },
   "outputs": [],
   "source": []
  }
 ],
 "metadata": {
  "anaconda-cloud": {},
  "kernelspec": {
   "display_name": "Python [Root]",
   "language": "python",
   "name": "Python [Root]"
  },
  "language_info": {
   "codemirror_mode": {
    "name": "ipython",
    "version": 3
   },
   "file_extension": ".py",
   "mimetype": "text/x-python",
   "name": "python",
   "nbconvert_exporter": "python",
   "pygments_lexer": "ipython3",
   "version": "3.5.2"
  }
 },
 "nbformat": 4,
 "nbformat_minor": 1
}
